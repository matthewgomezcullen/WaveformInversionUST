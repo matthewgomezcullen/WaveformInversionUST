{
 "cells": [
  {
   "cell_type": "code",
   "execution_count": 1,
   "metadata": {},
   "outputs": [],
   "source": [
    "import numpy as np\n",
    "import matplotlib.pyplot as plt"
   ]
  },
  {
   "cell_type": "code",
   "execution_count": null,
   "metadata": {},
   "outputs": [],
   "source": [
    "ID = 7\n",
    "\n",
    "with open(f'Simulations/phantoms/uiuc/{ID}.DAT', 'rb') as f:\n",
    "    data = np.fromfile(f, dtype=np.uint8)\n",
    "print(data)\n",
    "\n",
    "if ID == 7:\n",
    "    Nx = 616; Ny = 485; Nz = 719\n",
    "elif ID == 35:\n",
    "    Nx = 284; Ny = 411; Nz = 722\n",
    "elif ID == 47:\n",
    "    Nx = 495; Ny = 615; Nz = 752\n",
    "else:\n",
    "    raise ValueError(\"Invalid ID\")\n",
    "\n",
    "data = data.reshape((Nx, Ny, Nz), order='F')"
   ]
  },
  {
   "cell_type": "code",
   "execution_count": null,
   "metadata": {},
   "outputs": [],
   "source": [
    "# Define the slice index\n",
    "X = 350  # You can change this value to take a different slice\n",
    "\n",
    "# Take the slice at index X\n",
    "slice_2d = data[X, :, :]\n",
    "\n",
    "# Plot the 2D slice\n",
    "plt.imshow(slice_2d, cmap='gray')\n",
    "plt.colorbar()\n",
    "plt.title(f'2D Slice at X={X}')\n",
    "plt.show()"
   ]
  }
 ],
 "metadata": {
  "kernelspec": {
   "display_name": "base",
   "language": "python",
   "name": "python3"
  },
  "language_info": {
   "codemirror_mode": {
    "name": "ipython",
    "version": 3
   },
   "file_extension": ".py",
   "mimetype": "text/x-python",
   "name": "python",
   "nbconvert_exporter": "python",
   "pygments_lexer": "ipython3",
   "version": "3.12.7"
  }
 },
 "nbformat": 4,
 "nbformat_minor": 2
}
